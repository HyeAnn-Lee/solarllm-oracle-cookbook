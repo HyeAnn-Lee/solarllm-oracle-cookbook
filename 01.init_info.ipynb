{
 "cells": [
  {
   "cell_type": "markdown",
   "id": "f575989b-54a9-4d6f-a60f-c4189a8178b4",
   "metadata": {},
   "source": [
    "# Oracle Database 23ai 계정 신청"
   ]
  },
  {
   "cell_type": "markdown",
   "id": "60b9a175-06c1-4f32-8dbe-dcb0a2ab69bf",
   "metadata": {},
   "source": [
    "## Oracle Database 23ai 계정 신청 \n",
    "\n",
    "- URL: http://bit.ly/4bxp9K2"
   ]
  },
  {
   "cell_type": "markdown",
   "id": "981d307c-4324-469a-a20b-1b13356b162d",
   "metadata": {},
   "source": [
    "![](https://raw.githubusercontent.com/iamtaewan/solarllm-oracle-cookbook/main/images/img01.jpg)"
   ]
  },
  {
   "cell_type": "markdown",
   "id": "17a184ca-e582-42d2-9fb2-531406c86cf5",
   "metadata": {
    "tags": []
   },
   "source": [
    "- 이름 및 메일 소신용 이메일 주소 입력 후 \"__접속 정보 메일 발송 요청__\" 버튼 클릭"
   ]
  },
  {
   "cell_type": "markdown",
   "id": "83fcad2f-b953-4717-af39-f60f2dc916fa",
   "metadata": {
    "tags": []
   },
   "source": [
    "![](https://raw.githubusercontent.com/iamtaewan/solarllm-oracle-cookbook/main/images/img02.jpg)"
   ]
  },
  {
   "cell_type": "markdown",
   "id": "28d78764-6959-49ed-93ae-65ecb9b68aed",
   "metadata": {
    "tags": []
   },
   "source": [
    "## Oracle Database 23ai 접속 정보 수령"
   ]
  },
  {
   "cell_type": "markdown",
   "id": "05d6540f-ef6d-4305-a402-d7958ea9268f",
   "metadata": {},
   "source": [
    "- 정상적으로 등록되면 다음과 같은 메일이 전달됩니다. "
   ]
  },
  {
   "cell_type": "markdown",
   "id": "009417fa-ffb8-4876-b995-86a47b65ce7b",
   "metadata": {
    "tags": []
   },
   "source": [
    "![](https://raw.githubusercontent.com/iamtaewan/solarllm-oracle-cookbook/main/images/img03.jpg)"
   ]
  },
  {
   "cell_type": "code",
   "execution_count": null,
   "id": "2eddfcff-7fdf-49e2-9bc4-8ec20a2e3b21",
   "metadata": {},
   "outputs": [],
   "source": []
  }
 ],
 "metadata": {
  "kernelspec": {
   "display_name": "Python 3 (ipykernel)",
   "language": "python",
   "name": "python3"
  },
  "language_info": {
   "codemirror_mode": {
    "name": "ipython",
    "version": 3
   },
   "file_extension": ".py",
   "mimetype": "text/x-python",
   "name": "python",
   "nbconvert_exporter": "python",
   "pygments_lexer": "ipython3",
   "version": "3.8.19"
  }
 },
 "nbformat": 4,
 "nbformat_minor": 5
}
