{
 "cells": [
  {
   "cell_type": "markdown",
   "id": "ae919f6f-1296-4818-bbdb-c4c7990ec737",
   "metadata": {},
   "source": [
    "# Initialization"
   ]
  },
  {
   "cell_type": "markdown",
   "id": "00df5f54-6def-4645-ac70-ff9673132fde",
   "metadata": {},
   "source": [
    "## 1. Package 설치"
   ]
  },
  {
   "cell_type": "code",
   "execution_count": 27,
   "id": "1f1b7f94-45a2-48b0-a8ce-7c5802e9abe3",
   "metadata": {
    "tags": []
   },
   "outputs": [
    {
     "name": "stdout",
     "output_type": "stream",
     "text": [
      "======== Job Completed ========\n"
     ]
    }
   ],
   "source": [
    "!pip install -qU python-dotenv\n",
    "!pip install -qU PyPDF2\n",
    "!pip install -qU langchain\n",
    "!pip install -qU langchain-community\n",
    "!pip install -qU langchain-core\n",
    "!pip install -qU langchain-text-splitters\n",
    "!pip install -qU langchain_upstage\n",
    "!pip install -qU oracledb\n",
    "print(\"======== Job Completed ========\")"
   ]
  },
  {
   "cell_type": "markdown",
   "id": "683bc613-b49f-49da-9ed4-0257976d7aa5",
   "metadata": {},
   "source": [
    "## 2. 데이터베이스 접속 테스트"
   ]
  },
  {
   "cell_type": "markdown",
   "id": "0d193e28-f4e2-4b70-8f37-b5fe51bbe68f",
   "metadata": {},
   "source": [
    "### 데이터베이스 접속 정보 예시"
   ]
  },
  {
   "cell_type": "markdown",
   "id": "841e0b50-e6f2-4870-9c16-0689ea97dee7",
   "metadata": {},
   "source": [
    "- Database User-ID: kaist200\n",
    "- DB User Password: UPstage#312#923\n",
    "- DSN: 129.154.217.137:1521/pdb1.sub07030154100.kaist.oraclevcn.com"
   ]
  },
  {
   "cell_type": "code",
   "execution_count": 32,
   "id": "bb8a8928-1717-4dd4-9a9f-095631410084",
   "metadata": {
    "tags": []
   },
   "outputs": [
    {
     "name": "stdout",
     "output_type": "stream",
     "text": [
      "Database version: 23.4.1.24.6\n"
     ]
    }
   ],
   "source": [
    "import oracledb\n",
    "\n",
    "user = \"kaist200\"\n",
    "pw = \"UPstage#312#923\"\n",
    "dsn = \"129.154.217.137:1521/pdb1.sub07030154100.kaist.oraclevcn.com\"\n",
    "\n",
    "con = oracledb.connect(user=user, password=pw, dsn=dsn)\n",
    "print(\"Database version:\", con.version)"
   ]
  },
  {
   "cell_type": "markdown",
   "id": "eef4a73a-9733-4763-8cc3-2095b12694fd",
   "metadata": {},
   "source": [
    "## 3. .env 파일 등록"
   ]
  },
  {
   "cell_type": "markdown",
   "id": "c2753bee-b490-4f7e-ad83-8f0696dbf3bd",
   "metadata": {},
   "source": [
    "- 아래 API Key는 비정상 키입니다. 설명을 위한 조작된 키입니다."
   ]
  },
  {
   "cell_type": "code",
   "execution_count": 22,
   "id": "433f005f-c55d-41ea-8bfb-cec6b481bdc6",
   "metadata": {},
   "outputs": [
    {
     "name": "stdout",
     "output_type": "stream",
     "text": [
      "UPSTAGE_API_KEY=up_yiXiiiiiiiaK4kaaIkHM0Q8e5Ja6Kfnc\n",
      "DB_USER=kaist197\n",
      "DB_PASSWORD=UPstage#889#776\n",
      "DSN=129.154.217.137:1521/pdb1.sub07030154100.kaist.oraclevcn.com\n"
     ]
    }
   ],
   "source": [
    "!cat .env"
   ]
  },
  {
   "cell_type": "code",
   "execution_count": 23,
   "id": "f31d2898-11f8-47ec-a403-d46795a0a13a",
   "metadata": {
    "tags": []
   },
   "outputs": [
    {
     "name": "stdout",
     "output_type": "stream",
     "text": [
      "The dotenv extension is already loaded. To reload it, use:\n",
      "  %reload_ext dotenv\n"
     ]
    }
   ],
   "source": [
    "%load_ext dotenv\n",
    "%dotenv"
   ]
  },
  {
   "cell_type": "code",
   "execution_count": 24,
   "id": "ec9f3963-797a-4948-8cf4-0ebfc2b52b95",
   "metadata": {
    "tags": []
   },
   "outputs": [
    {
     "data": {
      "text/plain": [
       "(('up_5rbQ5ZNyiXkIABdM0Q8e5Ja6Kfnc', 'kaist197', 'UPstage#889#776'),)"
      ]
     },
     "execution_count": 24,
     "metadata": {},
     "output_type": "execute_result"
    }
   ],
   "source": [
    "import os\n",
    "\n",
    "(os.environ[\"UPSTAGE_API_KEY\"],os.environ[\"DB_USER\"],os.environ[\"DB_PASSWORD\"]),"
   ]
  },
  {
   "cell_type": "code",
   "execution_count": 25,
   "id": "e48cc0dc-5a1a-4abc-860e-c695ea13eb21",
   "metadata": {
    "tags": []
   },
   "outputs": [
    {
     "data": {
      "text/plain": [
       "('129.154.217.137:1521/pdb1.sub07030154100.kaist.oraclevcn.com',)"
      ]
     },
     "execution_count": 25,
     "metadata": {},
     "output_type": "execute_result"
    }
   ],
   "source": [
    "(os.environ[\"DSN\"]),"
   ]
  },
  {
   "cell_type": "code",
   "execution_count": null,
   "id": "77d920ff-b841-43f8-bf8d-1775ebca8944",
   "metadata": {},
   "outputs": [],
   "source": []
  }
 ],
 "metadata": {
  "kernelspec": {
   "display_name": "Python 3 (ipykernel)",
   "language": "python",
   "name": "python3"
  },
  "language_info": {
   "codemirror_mode": {
    "name": "ipython",
    "version": 3
   },
   "file_extension": ".py",
   "mimetype": "text/x-python",
   "name": "python",
   "nbconvert_exporter": "python",
   "pygments_lexer": "ipython3",
   "version": "3.8.19"
  }
 },
 "nbformat": 4,
 "nbformat_minor": 5
}
